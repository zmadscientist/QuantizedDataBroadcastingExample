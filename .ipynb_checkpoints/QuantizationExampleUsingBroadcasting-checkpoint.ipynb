{
 "cells": [
  {
   "cell_type": "markdown",
   "id": "c1caba36-270c-4fe4-8dd3-ee4424be5925",
   "metadata": {},
   "source": [
    "# Quantization Example using Broadcasting"
   ]
  },
  {
   "cell_type": "code",
   "execution_count": 1,
   "id": "8100a653-9bc9-4993-933e-6f1cc50dd89c",
   "metadata": {},
   "outputs": [
    {
     "data": {
      "text/html": [
       "<div>\n",
       "<style scoped>\n",
       "    .dataframe tbody tr th:only-of-type {\n",
       "        vertical-align: middle;\n",
       "    }\n",
       "\n",
       "    .dataframe tbody tr th {\n",
       "        vertical-align: top;\n",
       "    }\n",
       "\n",
       "    .dataframe thead th {\n",
       "        text-align: right;\n",
       "    }\n",
       "</style>\n",
       "<table border=\"1\" class=\"dataframe\">\n",
       "  <thead>\n",
       "    <tr style=\"text-align: right;\">\n",
       "      <th></th>\n",
       "      <th>Sport</th>\n",
       "      <th>Height [feet]</th>\n",
       "      <th>Weight [lbs]</th>\n",
       "    </tr>\n",
       "  </thead>\n",
       "  <tbody>\n",
       "    <tr>\n",
       "      <th>0</th>\n",
       "      <td>Basketball Player</td>\n",
       "      <td>6.6</td>\n",
       "      <td>224.4</td>\n",
       "    </tr>\n",
       "    <tr>\n",
       "      <th>1</th>\n",
       "      <td>Football Lineman</td>\n",
       "      <td>6.3</td>\n",
       "      <td>290.4</td>\n",
       "    </tr>\n",
       "    <tr>\n",
       "      <th>2</th>\n",
       "      <td>Gymnast</td>\n",
       "      <td>5.1</td>\n",
       "      <td>99.0</td>\n",
       "    </tr>\n",
       "    <tr>\n",
       "      <th>3</th>\n",
       "      <td>Marathon Runner</td>\n",
       "      <td>5.7</td>\n",
       "      <td>125.4</td>\n",
       "    </tr>\n",
       "  </tbody>\n",
       "</table>\n",
       "</div>"
      ],
      "text/plain": [
       "               Sport  Height [feet]  Weight [lbs]\n",
       "0  Basketball Player            6.6         224.4\n",
       "1   Football Lineman            6.3         290.4\n",
       "2            Gymnast            5.1          99.0\n",
       "3    Marathon Runner            5.7         125.4"
      ]
     },
     "execution_count": 1,
     "metadata": {},
     "output_type": "execute_result"
    }
   ],
   "source": [
    "import pandas as pd\n",
    "import numpy as np\n",
    "import matplotlib.pyplot as plt\n",
    "data = pd.read_csv('SportsHeightWeightChart.csv')\n",
    "data"
   ]
  },
  {
   "cell_type": "code",
   "execution_count": 6,
   "id": "61425072-5bb3-4ac4-99c7-87c3c1704109",
   "metadata": {},
   "outputs": [
    {
     "name": "stdout",
     "output_type": "stream",
     "text": [
      "Closest match:  Basketball Player\n"
     ]
    }
   ],
   "source": [
    "from numpy import array, argmin, sqrt, sum\n",
    "observation = array([6.2, 244.2])\n",
    "codes = data[[\"Height [feet]\", \"Weight [lbs]\"]].to_numpy()\n",
    "diff = codes - observation    # the broadcast happens here\n",
    "dist = sqrt(sum(diff**2,axis=-1))\n",
    "print(\"Closest match: \", data['Sport'][argmin(dist)])"
   ]
  },
  {
   "cell_type": "code",
   "execution_count": 3,
   "id": "3ccc44db-40e2-4353-8938-c1dc1d0950a1",
   "metadata": {},
   "outputs": [
    {
     "data": {
      "image/png": "[encoded data removed]",
      "text/plain": [
       "<Figure size 900x500 with 1 Axes>"
      ]
     },
     "metadata": {},
     "output_type": "display_data"
    }
   ],
   "source": [
    "plt.figure(figsize=(9,5))\n",
    "plt.legend(data['Sport'])\n",
    "plt.scatter(data['Weight [lbs]'], data['Height [feet]'])\n",
    "plt.grid()\n",
    "colors = ['b', 'c', 'y',  'g', 'r']\n",
    "\n",
    "P0 = plt.scatter(data['Weight [lbs]'][0], data['Height [feet]'][0],  color=colors[0])\n",
    "P1 = plt.scatter(data['Weight [lbs]'][1], data['Height [feet]'][1],  color=colors[1])\n",
    "P2 = plt.scatter(data['Weight [lbs]'][2], data['Height [feet]'][2],  color=colors[2])\n",
    "P3 = plt.scatter(data['Weight [lbs]'][3],  data['Height [feet]'][3], color=colors[3])\n",
    "sample = plt.scatter(observation[1],  observation[0], s = 60, color=colors[4])\n",
    "plt.title('Red dot is observation')\n",
    "plt.legend((P0, P1, P2, P3, sample),\n",
    "           data['Sport'],\n",
    "           scatterpoints=1,\n",
    "           loc='upper left',\n",
    "           ncol=3,\n",
    "           fontsize=8)\n",
    "\n",
    "plt.show()"
   ]
  },
  {
   "cell_type": "markdown",
   "id": "8bd03ca3-d89a-46e6-afd7-401b46633b7a",
   "metadata": {},
   "source": [
    "## Note:\n",
    "\n",
    "The observed sample, with properties in red, is closest to the basketball position"
   ]
  },
  {
   "cell_type": "code",
   "execution_count": null,
   "id": "eb770679-e76d-4277-b875-06a4e3f61bc6",
   "metadata": {},
   "outputs": [],
   "source": []
  },
  {
   "cell_type": "code",
   "execution_count": null,
   "id": "7285e10f-070f-4a67-b8e7-906f2a88818e",
   "metadata": {},
   "outputs": [],
   "source": []
  }
 ],
 "metadata": {
  "kernelspec": {
   "display_name": "Python [conda env:mldl] *",
   "language": "python",
   "name": "conda-env-mldl-py"
  },
  "language_info": {
   "codemirror_mode": {
    "name": "ipython",
    "version": 3
   },
   "file_extension": ".py",
   "mimetype": "text/x-python",
   "name": "python",
   "nbconvert_exporter": "python",
   "pygments_lexer": "ipython3",
   "version": "3.9.17"
  }
 },
 "nbformat": 4,
 "nbformat_minor": 5
}
