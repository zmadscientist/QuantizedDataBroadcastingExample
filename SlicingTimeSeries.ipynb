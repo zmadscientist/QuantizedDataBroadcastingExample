{
 "cells": [
  {
   "cell_type": "markdown",
   "id": "c92885f7-f5e7-48ff-a79d-ea802f931e33",
   "metadata": {},
   "source": [
    "# Stock Time Series Slicing Example"
   ]
  },
  {
   "cell_type": "code",
   "execution_count": 1,
   "id": "025a4640-ade3-456d-b8c1-5af9f9df5c20",
   "metadata": {},
   "outputs": [],
   "source": [
    "import pandas as pd\n",
    "import matplotlib.pyplot as plt\n"
   ]
  },
  {
   "cell_type": "code",
   "execution_count": 2,
   "id": "c49c4a54-6c8e-46c9-8910-66f4498d4816",
   "metadata": {},
   "outputs": [
    {
     "data": {
      "text/html": [
       "<div>\n",
       "<style scoped>\n",
       "    .dataframe tbody tr th:only-of-type {\n",
       "        vertical-align: middle;\n",
       "    }\n",
       "\n",
       "    .dataframe tbody tr th {\n",
       "        vertical-align: top;\n",
       "    }\n",
       "\n",
       "    .dataframe thead th {\n",
       "        text-align: right;\n",
       "    }\n",
       "</style>\n",
       "<table border=\"1\" class=\"dataframe\">\n",
       "  <thead>\n",
       "    <tr style=\"text-align: right;\">\n",
       "      <th></th>\n",
       "      <th>Date</th>\n",
       "      <th>Stock</th>\n",
       "      <th>Predict This</th>\n",
       "    </tr>\n",
       "  </thead>\n",
       "  <tbody>\n",
       "    <tr>\n",
       "      <th>0</th>\n",
       "      <td>20-Dec</td>\n",
       "      <td>145.993305</td>\n",
       "      <td>133.715583</td>\n",
       "    </tr>\n",
       "    <tr>\n",
       "      <th>1</th>\n",
       "      <td>21-Dec</td>\n",
       "      <td>142.333029</td>\n",
       "      <td>130.600238</td>\n",
       "    </tr>\n",
       "    <tr>\n",
       "      <th>2</th>\n",
       "      <td>22-Dec</td>\n",
       "      <td>125.629132</td>\n",
       "      <td>133.962360</td>\n",
       "    </tr>\n",
       "    <tr>\n",
       "      <th>3</th>\n",
       "      <td>23-Dec</td>\n",
       "      <td>133.715583</td>\n",
       "      <td>139.727917</td>\n",
       "    </tr>\n",
       "    <tr>\n",
       "      <th>4</th>\n",
       "      <td>24-Dec</td>\n",
       "      <td>130.600238</td>\n",
       "      <td>137.509795</td>\n",
       "    </tr>\n",
       "    <tr>\n",
       "      <th>5</th>\n",
       "      <td>25-Dec</td>\n",
       "      <td>133.962360</td>\n",
       "      <td>135.177490</td>\n",
       "    </tr>\n",
       "    <tr>\n",
       "      <th>6</th>\n",
       "      <td>26-Dec</td>\n",
       "      <td>139.727917</td>\n",
       "      <td>125.959672</td>\n",
       "    </tr>\n",
       "    <tr>\n",
       "      <th>7</th>\n",
       "      <td>27-Dec</td>\n",
       "      <td>137.509795</td>\n",
       "      <td>135.210636</td>\n",
       "    </tr>\n",
       "    <tr>\n",
       "      <th>8</th>\n",
       "      <td>28-Dec</td>\n",
       "      <td>135.177490</td>\n",
       "      <td>142.632448</td>\n",
       "    </tr>\n",
       "    <tr>\n",
       "      <th>9</th>\n",
       "      <td>29-Dec</td>\n",
       "      <td>125.959672</td>\n",
       "      <td>NaN</td>\n",
       "    </tr>\n",
       "    <tr>\n",
       "      <th>10</th>\n",
       "      <td>30-Dec</td>\n",
       "      <td>135.210636</td>\n",
       "      <td>NaN</td>\n",
       "    </tr>\n",
       "    <tr>\n",
       "      <th>11</th>\n",
       "      <td>31-Dec</td>\n",
       "      <td>142.632448</td>\n",
       "      <td>NaN</td>\n",
       "    </tr>\n",
       "  </tbody>\n",
       "</table>\n",
       "</div>"
      ],
      "text/plain": [
       "      Date       Stock  Predict This\n",
       "0   20-Dec  145.993305    133.715583\n",
       "1   21-Dec  142.333029    130.600238\n",
       "2   22-Dec  125.629132    133.962360\n",
       "3   23-Dec  133.715583    139.727917\n",
       "4   24-Dec  130.600238    137.509795\n",
       "5   25-Dec  133.962360    135.177490\n",
       "6   26-Dec  139.727917    125.959672\n",
       "7   27-Dec  137.509795    135.210636\n",
       "8   28-Dec  135.177490    142.632448\n",
       "9   29-Dec  125.959672           NaN\n",
       "10  30-Dec  135.210636           NaN\n",
       "11  31-Dec  142.632448           NaN"
      ]
     },
     "execution_count": 2,
     "metadata": {},
     "output_type": "execute_result"
    }
   ],
   "source": [
    "df = pd.read_csv('StockTimeSeries.csv')\n",
    "df"
   ]
  },
  {
   "cell_type": "code",
   "execution_count": null,
   "id": "5993eafd-ee19-4b19-bb7f-b5250c412ccc",
   "metadata": {},
   "outputs": [],
   "source": []
  }
 ],
 "metadata": {
  "kernelspec": {
   "display_name": "Python [conda env:mldl] *",
   "language": "python",
   "name": "conda-env-mldl-py"
  },
  "language_info": {
   "codemirror_mode": {
    "name": "ipython",
    "version": 3
   },
   "file_extension": ".py",
   "mimetype": "text/x-python",
   "name": "python",
   "nbconvert_exporter": "python",
   "pygments_lexer": "ipython3",
   "version": "3.9.17"
  }
 },
 "nbformat": 4,
 "nbformat_minor": 5
}
